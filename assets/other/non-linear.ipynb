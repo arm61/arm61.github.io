{
 "cells": [
  {
   "cell_type": "markdown",
   "id": "28c4f415-e490-4526-8ffa-597fe5f17220",
   "metadata": {},
   "source": [
    "# Non-linear fitting\n",
    "\n",
    "This notebook outlines how Python code can be used to perform the non-linear fitting approach for the Arrhenius equation.\n",
    "The first step is to import the necessary Python modules, functions and objects"
   ]
  },
  {
   "cell_type": "code",
   "execution_count": null,
   "id": "c0c73ce9-4974-4c2e-8132-012b4d4694d7",
   "metadata": {},
   "outputs": [],
   "source": [
    "import numpy as np\n",
    "from scipy.optimize import curve_fit\n",
    "from scipy.constants import R\n",
    "import matplotlib.pyplot as plt"
   ]
  },
  {
   "cell_type": "markdown",
   "id": "3b40099f-abe3-4c67-9bbb-711ec69b604f",
   "metadata": {},
   "source": [
    "The ideal gas constant from the `scipy` package is in the units of JK<sup>-1</sup>mol<sup>-1</sup>. \n",
    "In the next cell we convert this, in place, to units of kJK<sup>-1</sup>mol<sup>-1</sup>. "
   ]
  },
  {
   "cell_type": "code",
   "execution_count": null,
   "id": "d16a6aeb-419c-4cde-9aa0-589213659e6c",
   "metadata": {},
   "outputs": [],
   "source": [
    "R *= 1e-3"
   ]
  },
  {
   "cell_type": "markdown",
   "id": "fb79fc7e-02bc-4663-9943-4203f92518d2",
   "metadata": {},
   "source": [
    "The next step is to define a function for the Arrhenius equation, this is achieve as shown below. "
   ]
  },
  {
   "cell_type": "code",
   "execution_count": null,
   "id": "c0b3ab05-c2f7-4e01-a889-51148c7f2d76",
   "metadata": {},
   "outputs": [],
   "source": [
    "def arrhenius(temperature: np.ndarray, activation_energy: float, prefactor: float) -> np.ndarray:\n",
    "    \"\"\"\n",
    "    Determine the diffusion coefficient for a given activation energy,\n",
    "    and prefactor according to the Arrhenius equation.\n",
    "\n",
    "    Args:\n",
    "        temperature (:py:attr:`array_like`): The temperature data.\n",
    "        activation_energy (:py:attr:`float`): The activation_energy value.\n",
    "        prefactor (:py:attr:`float`): The prefactor value.\n",
    "\n",
    "    :return: The diffusion coefficient data.\n",
    "    \"\"\"\n",
    "    return prefactor * np.exp(-1 * activation_energy / (R * temperature))"
   ]
  },
  {
   "cell_type": "markdown",
   "id": "3c948735-da57-4535-9289-dbe66bfd3290",
   "metadata": {},
   "source": [
    "The cell below defines the data that we are hoping to model. \n",
    "This temperature and rate constant data should be replaced as appropriate."
   ]
  },
  {
   "cell_type": "code",
   "execution_count": null,
   "id": "f10f6eb8-4570-4b3f-a0cb-431a13d641db",
   "metadata": {},
   "outputs": [],
   "source": [
    "T = np.array([500, 550, 600, 650, 700, 750, 800, 850, 900, 950, 1000])\n",
    "k = np.array([5.16e-8, 1.37e-7, 2.04e-7, 2.80e-7, 8.16e-7, 1.35e-6, 2.13e-6, 3.43e-6, 5.04e-6, 7.15e-6, 9.78e-6])"
   ]
  },
  {
   "cell_type": "markdown",
   "id": "7f16447a-ca72-494d-b777-9f96d95089f8",
   "metadata": {},
   "source": [
    "We can then use the `curve_fit` function to estimate the best fit parameters for the Arrhenius equation. \n",
    "The `curve_fit` function also provides the variance-covariance matrix for the parameters which can estimate the parameter uncertainty in the fitting. "
   ]
  },
  {
   "cell_type": "code",
   "execution_count": null,
   "id": "80701264-ea8a-4b9c-af13-06ef19a11f2c",
   "metadata": {},
   "outputs": [],
   "source": [
    "popt, pcov = curve_fit(arrhenius, T, k)\n",
    "perr = np.diag(np.sqrt(pcov))"
   ]
  },
  {
   "cell_type": "markdown",
   "id": "de5c7cf9-8331-4bb1-8353-a8b769966e01",
   "metadata": {},
   "source": [
    "We then print the results below and plot the data with the Arrhenius plot."
   ]
  },
  {
   "cell_type": "code",
   "execution_count": null,
   "id": "2ee56c6c-ed70-4b8c-82b5-09fb67883bc7",
   "metadata": {},
   "outputs": [],
   "source": [
    "print(f'Ea = {popt[0]:.2f} +/ {perr[0]:.2f} kJ/mol')\n",
    "print(f'A = {popt[1]:.2e} +/ {perr[1]:.2e} /s')"
   ]
  },
  {
   "cell_type": "code",
   "execution_count": null,
   "id": "7baffe65-b092-4b9c-8240-8dc84baa4a20",
   "metadata": {},
   "outputs": [],
   "source": [
    "plt.plot(1000/T, k, '.')\n",
    "plt.plot(1000/T, arrhenius(T, *popt), '-')\n",
    "plt.yscale('log')\n",
    "plt.xlabel('1000T$^{-1}$/K$^{-1}$')\n",
    "plt.ylabel('$k_r$/s$^{-1}$')\n",
    "plt.show()"
   ]
  }
 ],
 "metadata": {
  "kernelspec": {
   "display_name": "Python 3 (ipykernel)",
   "language": "python",
   "name": "python3"
  },
  "language_info": {
   "codemirror_mode": {
    "name": "ipython",
    "version": 3
   },
   "file_extension": ".py",
   "mimetype": "text/x-python",
   "name": "python",
   "nbconvert_exporter": "python",
   "pygments_lexer": "ipython3",
   "version": "3.9.15"
  }
 },
 "nbformat": 4,
 "nbformat_minor": 5
}
