{
 "cells": [
  {
   "cell_type": "markdown",
   "id": "28c4f415-e490-4526-8ffa-597fe5f17220",
   "metadata": {},
   "source": [
    "# Weighted non-linear fitting\n",
    "\n",
    "This notebook outlines how Python code can be used to perform the weighted non-linear fitting approach for the Arrhenius equation.\n",
    "Before reading this notebook please work through the non-linear fitting equivalent which gives the details of this first cell. "
   ]
  },
  {
   "cell_type": "code",
   "execution_count": null,
   "id": "8ab3f3ed-1f32-41a7-b571-f6de0df986f2",
   "metadata": {},
   "outputs": [],
   "source": [
    "import numpy as np\n",
    "from scipy.optimize import curve_fit\n",
    "from scipy.constants import R\n",
    "import matplotlib.pyplot as plt\n",
    "\n",
    "R *= 1e-3\n",
    "\n",
    "def arrhenius(temperature: np.ndarray, activation_energy: float, prefactor: float) -> np.ndarray:\n",
    "    \"\"\"\n",
    "    Determine the diffusion coefficient for a given activation energy,\n",
    "    and prefactor according to the Arrhenius equation.\n",
    "\n",
    "    Args:\n",
    "        temperature (:py:attr:`array_like`): The temperature data.\n",
    "        activation_energy (:py:attr:`float`): The activation_energy value.\n",
    "        prefactor (:py:attr:`float`): The prefactor value.\n",
    "\n",
    "    :return: The diffusion coefficient data.\n",
    "    \"\"\"\n",
    "    return prefactor * np.exp(-1 * activation_energy / (R * temperature))"
   ]
  },
  {
   "cell_type": "markdown",
   "id": "3c948735-da57-4535-9289-dbe66bfd3290",
   "metadata": {},
   "source": [
    "The cell below defines the data that we are hoping to model. \n",
    "This temperature and rate constant data and uncertainty should be replaced as appropriate."
   ]
  },
  {
   "cell_type": "code",
   "execution_count": null,
   "id": "f10f6eb8-4570-4b3f-a0cb-431a13d641db",
   "metadata": {},
   "outputs": [],
   "source": [
    "T = np.array([500, 550, 600, 650, 700, 750, 800, 850, 900, 950, 1000])\n",
    "k = np.array([5.85e-8, 2.41e-7, 7.56e-8, 5.00e-7, 9.36e-7, 1.38e-6, 2.16e-6, 3.27e-6, 5.40e-6, 7.07e-6, 9.68e-6])\n",
    "kerr = np.array([2.04e-07, 7.11e-08, 7.96e-08, 6.68e-08, 2.31e-07, 2.51e-08, 1.74e-08, 2.09e-07, 1.24e-07, 1.37e-08, 1.89e-07])"
   ]
  },
  {
   "cell_type": "markdown",
   "id": "7f16447a-ca72-494d-b777-9f96d95089f8",
   "metadata": {},
   "source": [
    "We can then use the `curve_fit` function to estimate the best fit parameters for the Arrhenius equation. \n",
    "The `sigma` keyword argument lets us include uncertainty weighting. "
   ]
  },
  {
   "cell_type": "code",
   "execution_count": null,
   "id": "80701264-ea8a-4b9c-af13-06ef19a11f2c",
   "metadata": {},
   "outputs": [],
   "source": [
    "popt, pcov = curve_fit(arrhenius, T, k, sigma=kerr)\n",
    "perr = np.diag(np.sqrt(pcov))"
   ]
  },
  {
   "cell_type": "markdown",
   "id": "34c6a8ca-3fff-4b06-8bf6-269a9b6c33d5",
   "metadata": {},
   "source": [
    "We then print the results below and plot the data with the Arrhenius plot."
   ]
  },
  {
   "cell_type": "code",
   "execution_count": null,
   "id": "2ee56c6c-ed70-4b8c-82b5-09fb67883bc7",
   "metadata": {},
   "outputs": [],
   "source": [
    "print(f'Ea = {popt[0]:.2f} +/ {perr[0]:.2f} kJ/mol')\n",
    "print(f'A = {popt[1]:.2e} +/ {perr[1]:.2e} /s')"
   ]
  },
  {
   "cell_type": "code",
   "execution_count": null,
   "id": "7baffe65-b092-4b9c-8240-8dc84baa4a20",
   "metadata": {},
   "outputs": [],
   "source": [
    "plt.errorbar(1000/T, k, kerr, marker='.', ls='')\n",
    "plt.plot(1000/T, arrhenius(T, *popt), '-')\n",
    "plt.yscale('log')\n",
    "plt.xlabel('1000T$^{-1}$/K$^{-1}$')\n",
    "plt.ylabel('$k_r$/s$^{-1}$')\n",
    "plt.show()"
   ]
  }
 ],
 "metadata": {
  "kernelspec": {
   "display_name": "Python 3 (ipykernel)",
   "language": "python",
   "name": "python3"
  },
  "language_info": {
   "codemirror_mode": {
    "name": "ipython",
    "version": 3
   },
   "file_extension": ".py",
   "mimetype": "text/x-python",
   "name": "python",
   "nbconvert_exporter": "python",
   "pygments_lexer": "ipython3",
   "version": "3.9.15"
  }
 },
 "nbformat": 4,
 "nbformat_minor": 5
}
